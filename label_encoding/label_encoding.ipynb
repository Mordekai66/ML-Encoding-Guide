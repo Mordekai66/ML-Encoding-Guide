{
 "cells": [
  {
   "cell_type": "markdown",
   "id": "c0c03edc-8e6b-4932-ba3c-bb18d1ca8df3",
   "metadata": {},
   "source": [
    "# Label Encoding - Jupyter Notebook"
   ]
  },
  {
   "cell_type": "markdown",
   "id": "ff922d2a-63a0-4c60-882f-886995a301ef",
   "metadata": {},
   "source": [
    "# Introduction"
   ]
  },
  {
   "cell_type": "markdown",
   "id": "721e1c58-e024-4b4a-a65d-2e84e9af153c",
   "metadata": {},
   "source": [
    "This notebook shows **Label Encoding** using two approaches:\n",
    "\n",
    " **A simple example** for conceptual understanding.  \n",
    " **Applying Label Encoding** on a real-world dataset loaded from a CSV file.\n"
   ]
  },
  {
   "cell_type": "markdown",
   "id": "ee69f2ce-4779-40a1-b741-bed0be21ead5",
   "metadata": {},
   "source": [
    "# Importing Required Libraries"
   ]
  },
  {
   "cell_type": "code",
   "execution_count": 3,
   "id": "34d89fa2-939c-47fb-9845-864f75b0d9b3",
   "metadata": {},
   "outputs": [],
   "source": [
    "import pandas as pd\n",
    "from sklearn.preprocessing import LabelEncoder"
   ]
  },
  {
   "cell_type": "markdown",
   "id": "37964e47-375b-43c1-860a-9983873f72aa",
   "metadata": {},
   "source": [
    "# Simple Example for Understanding"
   ]
  },
  {
   "cell_type": "code",
   "execution_count": 15,
   "id": "c8ee0765-f37d-4878-84a9-7590dd2ba434",
   "metadata": {},
   "outputs": [
    {
     "name": "stdout",
     "output_type": "stream",
     "text": [
      "Simple Example - Label Encoding:\n",
      "\n",
      "     Fruit  Encoded_Fruit\n",
      "0   Apple              0\n",
      "1  Banana              1\n",
      "2  Orange              2\n",
      "3  Banana              1\n",
      "4   Apple              0\n",
      "5  Orange              2\n"
     ]
    }
   ],
   "source": [
    "# Creating a small dataset with categorical values\n",
    "data = {'Fruit': ['Apple', 'Banana', 'Orange', 'Banana', 'Apple', 'Orange']}\n",
    "df_simple = pd.DataFrame(data)\n",
    "\n",
    "# Applying Label Encoding\n",
    "encoder = LabelEncoder()\n",
    "df_simple['Encoded_Fruit'] = encoder.fit_transform(df_simple['Fruit'])\n",
    "\n",
    "# Display the results\n",
    "print(\"Simple Example - Label Encoding:\\n\\n\", df_simple)"
   ]
  },
  {
   "cell_type": "markdown",
   "id": "18f70f28-8ca9-4445-acad-2593ef91837e",
   "metadata": {},
   "source": [
    "# Real-World Example - Applying Label Encoding on a CSV Dataset"
   ]
  },
  {
   "cell_type": "code",
   "execution_count": 19,
   "id": "56afca2c-88b3-4cd0-a9d5-6957dd2f16a2",
   "metadata": {},
   "outputs": [
    {
     "name": "stdout",
     "output_type": "stream",
     "text": [
      "\n",
      "Real-World Dataset (Before Encoding):\n",
      "     User ID  Gender  Age  EstimatedSalary  Purchased\n",
      "0  15624510    Male   19            19000          0\n",
      "1  15810944    Male   35            20000          0\n",
      "2  15668575  Female   26            43000          0\n",
      "3  15603246  Female   27            57000          0\n",
      "4  15804002    Male   19            76000          0\n",
      "\n",
      "Real-World Dataset (After Encoding):\n",
      "     User ID  Gender  Age  EstimatedSalary  Purchased\n",
      "0  15624510       1   19            19000          0\n",
      "1  15810944       1   35            20000          0\n",
      "2  15668575       0   26            43000          0\n",
      "3  15603246       0   27            57000          0\n",
      "4  15804002       1   19            76000          0\n"
     ]
    }
   ],
   "source": [
    "# Load dataset\n",
    "df_real = pd.read_csv(\"sample_data.csv\")\n",
    "\n",
    "# Display first few rows\n",
    "print(\"\\nReal-World Dataset (Before Encoding):\\n\", df_real.head())\n",
    "\n",
    "\n",
    "# Apply Label Encoding on Gender column\n",
    "df_real[\"Gender\"] = encoder.fit_transform(df_real[\"Gender\"])\n",
    "\n",
    "# Display first few rows after encoding\n",
    "print(\"\\nReal-World Dataset (After Encoding):\\n\", df_real.head())"
   ]
  },
  {
   "cell_type": "markdown",
   "id": "152765a8-8b3e-423b-a078-1229cd3f11e4",
   "metadata": {},
   "source": [
    "# Difference Between fit(), fit_transform(), and transform()"
   ]
  },
  {
   "cell_type": "code",
   "execution_count": 12,
   "id": "2898156a-fd10-47fa-bf1d-de8690f98be9",
   "metadata": {},
   "outputs": [
    {
     "name": "stdout",
     "output_type": "stream",
     "text": [
      "\n",
      "Classes learned: ['Apple' 'Banana' 'Orange']\n",
      "\n",
      "Transforming ['Apple', 'Orange']: [0 2]\n"
     ]
    }
   ],
   "source": [
    "\"\"\"\n",
    "fit(): Learns the unique labels and assigns them numeric values but does NOT transform data.\n",
    "fit_transform(): Learns the labels and transforms the data in one step.\n",
    "transform(): Transforms new data based on learned labels without re-learning.\n",
    "\"\"\"\n",
    "\n",
    "# Fitting the encoder without transforming\n",
    "encoder.fit(df_simple['Fruit'])\n",
    "print(\"\\nClasses learned:\", encoder.classes_)\n",
    "\n",
    "# Transforming separately\n",
    "encoded_values = encoder.transform(['Apple', 'Orange'])\n",
    "print(\"\\nTransforming ['Apple', 'Orange']:\", encoded_values)"
   ]
  },
  {
   "cell_type": "markdown",
   "id": "1eb128c1-f8d4-4d10-96d3-8ef6ed5b385b",
   "metadata": {},
   "source": [
    "# Reversing Encoding (Decoding back to original)"
   ]
  },
  {
   "cell_type": "code",
   "execution_count": 16,
   "id": "ddd74dd5-c90c-4032-8c22-f6e046bd83b6",
   "metadata": {},
   "outputs": [
    {
     "name": "stdout",
     "output_type": "stream",
     "text": [
      "\n",
      "Decoded back to original: ['Apple' 'Orange']\n"
     ]
    }
   ],
   "source": [
    "decoded_values = encoder.inverse_transform(encoded_values)\n",
    "print(\"\\nDecoded back to original:\", decoded_values)"
   ]
  },
  {
   "cell_type": "markdown",
   "id": "ae1e7313-d01a-4bf8-9cd0-eb4f5778d750",
   "metadata": {},
   "source": [
    "# Important Notes About Label Encoding"
   ]
  },
  {
   "cell_type": "markdown",
   "id": "1af13c3b-293a-4cb9-b6a6-1fc0d4604cc2",
   "metadata": {},
   "source": [
    "### ⚠️ Important Tips for Label Encoding\n",
    "\n",
    "1️⃣ **If you call `fit()` again on new data, it will overwrite the previous labels.**  \n",
    "   - Example: If you fit on `['Apple', 'Banana', 'Orange']`, then later fit on `['Grapes', 'Mango']`,  \n",
    "     the old mappings will be lost.\n",
    "\n",
    "2️⃣ **Always use `transform()` on new data** to maintain consistency with previously learned labels.\n",
    "\n",
    "3️⃣ **If you encode training data and test data separately, there might be inconsistencies.**  \n",
    "   - Example: `'Apple'` might be `0` in training but `2` in testing.  \n",
    "   - **Solution:** Always `fit()` on training data and only `transform()` on test data.\n",
    "\n",
    "✅ **Best Practice:** Always `fit()` once on a reference dataset and `transform()` for new data!\n"
   ]
  }
 ],
 "metadata": {
  "kernelspec": {
   "display_name": "Python 3 (ipykernel)",
   "language": "python",
   "name": "python3"
  },
  "language_info": {
   "codemirror_mode": {
    "name": "ipython",
    "version": 3
   },
   "file_extension": ".py",
   "mimetype": "text/x-python",
   "name": "python",
   "nbconvert_exporter": "python",
   "pygments_lexer": "ipython3",
   "version": "3.12.0"
  }
 },
 "nbformat": 4,
 "nbformat_minor": 5
}
