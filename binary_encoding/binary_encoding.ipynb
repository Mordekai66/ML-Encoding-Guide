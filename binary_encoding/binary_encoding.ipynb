{
 "cells": [
  {
   "cell_type": "markdown",
   "id": "32e3b61f-46f7-4fab-8a88-6173884caa49",
   "metadata": {},
   "source": [
    "# Binary Encoding - Jupyter notebook"
   ]
  },
  {
   "cell_type": "markdown",
   "id": "8f6a76f9-858e-4c85-84ba-6b357fbe8c62",
   "metadata": {},
   "source": [
    "## **Introduction**\n",
    "This notebook demonstrates Frequency Encoding using two approaches:\n",
    "- A simple example for conceptual understanding.\n",
    "- Applying Frequency Encoding on a real-world dataset loaded from a CSV file."
   ]
  },
  {
   "cell_type": "markdown",
   "id": "83917ae0-c303-4c2e-a9de-c96dcf0200eb",
   "metadata": {},
   "source": [
    "## Import required library"
   ]
  },
  {
   "cell_type": "code",
   "execution_count": 1,
   "id": "d4f9248d-277f-4abd-bcad-220e34b712d8",
   "metadata": {},
   "outputs": [],
   "source": [
    "from sklearn.preprocessing import LabelEncoder\n",
    "import pandas as pd\n",
    "import pandas as pd\n",
    "from category_encoders import BinaryEncoder"
   ]
  },
  {
   "cell_type": "markdown",
   "id": "caa06b97-4aac-4cc4-9875-5de3dbcd11a7",
   "metadata": {},
   "source": [
    "## Simple Example for Understanding"
   ]
  },
  {
   "cell_type": "code",
   "execution_count": 19,
   "id": "3307714e-a9fd-46ea-bf17-36f701430f91",
   "metadata": {},
   "outputs": [
    {
     "data": {
      "text/html": [
       "<div>\n",
       "<style scoped>\n",
       "    .dataframe tbody tr th:only-of-type {\n",
       "        vertical-align: middle;\n",
       "    }\n",
       "\n",
       "    .dataframe tbody tr th {\n",
       "        vertical-align: top;\n",
       "    }\n",
       "\n",
       "    .dataframe thead th {\n",
       "        text-align: right;\n",
       "    }\n",
       "</style>\n",
       "<table border=\"1\" class=\"dataframe\">\n",
       "  <thead>\n",
       "    <tr style=\"text-align: right;\">\n",
       "      <th></th>\n",
       "      <th>int</th>\n",
       "      <th>bin</th>\n",
       "    </tr>\n",
       "  </thead>\n",
       "  <tbody>\n",
       "    <tr>\n",
       "      <th>0</th>\n",
       "      <td>2</td>\n",
       "      <td>10</td>\n",
       "    </tr>\n",
       "    <tr>\n",
       "      <th>1</th>\n",
       "      <td>0</td>\n",
       "      <td>0</td>\n",
       "    </tr>\n",
       "    <tr>\n",
       "      <th>2</th>\n",
       "      <td>3</td>\n",
       "      <td>11</td>\n",
       "    </tr>\n",
       "    <tr>\n",
       "      <th>3</th>\n",
       "      <td>1</td>\n",
       "      <td>1</td>\n",
       "    </tr>\n",
       "  </tbody>\n",
       "</table>\n",
       "</div>"
      ],
      "text/plain": [
       "   int bin\n",
       "0    2  10\n",
       "1    0   0\n",
       "2    3  11\n",
       "3    1   1"
      ]
     },
     "execution_count": 19,
     "metadata": {},
     "output_type": "execute_result"
    }
   ],
   "source": [
    "# Simple data\n",
    "categories = ['Car', 'Bike', 'Motorbike', 'Bus']\n",
    "\n",
    "# Transform data into binary using LabelEncoder()\n",
    "label_encoder = LabelEncoder()\n",
    "int_encoded = pd.DataFrame(label_encoder.fit_transform(categories), columns=[\"int\"])\n",
    "int_encoded[\"bin\"] = int_encoded[\"int\"].apply(lambda x: bin(x)[2:])\n",
    "\n",
    "# Display results\n",
    "int_encoded"
   ]
  },
  {
   "cell_type": "markdown",
   "id": "6e6e8022-e11c-4ea2-ae5e-70203ea17b45",
   "metadata": {},
   "source": [
    "# Simple data\n",
    "data = pd.DataFrame({'Vehicle': ['Car', 'Bike', 'Motorbike', 'Bus']})\n",
    "\n",
    "# Transfor data using BinaryEncoder()\n",
    "encoder = BinaryEncoder(cols=['Vehicle'])\n",
    "encoded_data = encoder.fit_transform(data)\n",
    "\n",
    "print(encoded_data)"
   ]
  },
  {
   "cell_type": "markdown",
   "id": "9e678382-edf9-40e2-8ca8-fad1b8c42b4c",
   "metadata": {},
   "source": [
    "## Difference Between fit(), fit_transform(), and transform()"
   ]
  },
  {
   "cell_type": "markdown",
   "id": "4cf33fec-e741-457a-b978-d8734745d2aa",
   "metadata": {},
   "source": [
    "| Method           | Description |\n",
    "|-----------------|-------------|\n",
    "| **fit()**       | Learns the unique labels and assigns them binary vectors but does **NOT** transform data. |\n",
    "| **fit_transform()** | Learns the labels and transforms the data in one step. |\n",
    "| **transform()**  | Transforms new data based on learned labels without re-learning. |\n"
   ]
  },
  {
   "cell_type": "markdown",
   "id": "ca27d770-e7b1-44ca-8754-a0d11ed6794f",
   "metadata": {},
   "source": [
    "## Important Tips for Frequency Encoding  "
   ]
  },
  {
   "cell_type": "markdown",
   "id": "7a367391-55be-48af-b6ae-9309e3a77f6d",
   "metadata": {},
   "source": [
    "## **Key Parameters in Binary Encoding**\n",
    "\n",
    "| Parameter          | Description | Explanation | Example Usage |\n",
    "|--------------------|-------------|-------------|---------------|\n",
    "| `cols`            | Specifies which columns to apply Binary Encoding to. | Helps in selective encoding if only specific columns need transformation. | `ce.BinaryEncoder(cols=['Vehicle'])` |\n",
    "| `drop_invariant`  | If `True`, removes columns with no variance after encoding. | Useful for cleaning redundant features after transformation. | `ce.BinaryEncoder(drop_invariant=True)` |\n",
    "| `return_df`       | If `True`, returns a DataFrame instead of a NumPy array. | Ensures compatibility with pandas DataFrames when further processing is needed. | `ce.BinaryEncoder(return_df=True)` |\n",
    "| `verbose`         | Controls the display of messages during encoding. | Setting `verbose=1` prints progress messages during encoding. | `ce.BinaryEncoder(verbose=1)` |\n",
    "\n",
    "---\n",
    "\n",
    "## **Be careful with data leakage.**  \n",
    "- If you encode the entire dataset before splitting, data leaks into training.  \n",
    "- **Solution:** Always perform Binary Encoding inside cross-validation folds to prevent overfitting.  \n",
    "\n",
    "**Best Practice:** Apply encoding within cross-validation folds to maintain model integrity.\n",
    "\n",
    "---\n",
    "\n",
    "## **Difference Between Binary Encoding and Frequency Encoding**\n",
    "| **Encoding Type**  | **How It Works** | **Best Use Case** |\n",
    "|--------------------|----------------|-------------------|\n",
    "| **Binary Encoding** | Converts categorical values into binary representations and stores them in multiple columns. | When dealing with **high-cardinality** categorical variables and aiming for compact representation. |\n",
    "| **Frequency Encoding** | Uses **only the count of occurrences** of each category. | When categories are unordered and have many unique values. |\n",
    "\n",
    "---\n",
    "\n",
    "## **When to Use Binary Encoding?**\n",
    "- When categorical features have **many unique values** and one-hot encoding creates too many columns.\n",
    "- When you need a **compact numerical representation** that reduces dimensionality.\n",
    "\n",
    "---\n",
    "\n",
    "**Tip**: Binary Encoding is particularly useful when dealing with **high-cardinality categorical data**, as it provides an efficient way to represent categories without excessive feature expansion.\n"
   ]
  }
 ],
 "metadata": {
  "kernelspec": {
   "display_name": "Python 3 (ipykernel)",
   "language": "python",
   "name": "python3"
  },
  "language_info": {
   "codemirror_mode": {
    "name": "ipython",
    "version": 3
   },
   "file_extension": ".py",
   "mimetype": "text/x-python",
   "name": "python",
   "nbconvert_exporter": "python",
   "pygments_lexer": "ipython3",
   "version": "3.12.0"
  }
 },
 "nbformat": 4,
 "nbformat_minor": 5
}
